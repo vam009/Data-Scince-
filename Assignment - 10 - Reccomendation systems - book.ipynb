{
 "cells": [
  {
   "cell_type": "markdown",
   "id": "2563e25a",
   "metadata": {},
   "source": [
    "## Sharan S\n",
    "### Assignment 10\n",
    "### Reccomendation systems"
   ]
  },
  {
   "cell_type": "markdown",
   "id": "5c5b6b5e",
   "metadata": {},
   "source": [
    "Build a recommender system by using cosine simillarties score.\n"
   ]
  },
  {
   "cell_type": "code",
   "execution_count": 25,
   "id": "6cb97fcc",
   "metadata": {},
   "outputs": [],
   "source": [
    "import pandas as pd\n",
    "import numpy as np\n",
    "from sklearn.metrics import pairwise_distances\n",
    "from scipy.spatial.distance import cosine,correlation"
   ]
  },
  {
   "cell_type": "code",
   "execution_count": 26,
   "id": "779f59e8",
   "metadata": {},
   "outputs": [
    {
     "data": {
      "text/html": [
       "<div>\n",
       "<style scoped>\n",
       "    .dataframe tbody tr th:only-of-type {\n",
       "        vertical-align: middle;\n",
       "    }\n",
       "\n",
       "    .dataframe tbody tr th {\n",
       "        vertical-align: top;\n",
       "    }\n",
       "\n",
       "    .dataframe thead th {\n",
       "        text-align: right;\n",
       "    }\n",
       "</style>\n",
       "<table border=\"1\" class=\"dataframe\">\n",
       "  <thead>\n",
       "    <tr style=\"text-align: right;\">\n",
       "      <th></th>\n",
       "      <th>Unnamed: 0</th>\n",
       "      <th>User.ID</th>\n",
       "      <th>Book.Title</th>\n",
       "      <th>Book.Rating</th>\n",
       "    </tr>\n",
       "  </thead>\n",
       "  <tbody>\n",
       "    <tr>\n",
       "      <th>0</th>\n",
       "      <td>1</td>\n",
       "      <td>276726</td>\n",
       "      <td>Classical Mythology</td>\n",
       "      <td>5</td>\n",
       "    </tr>\n",
       "    <tr>\n",
       "      <th>1</th>\n",
       "      <td>2</td>\n",
       "      <td>276729</td>\n",
       "      <td>Clara Callan</td>\n",
       "      <td>3</td>\n",
       "    </tr>\n",
       "    <tr>\n",
       "      <th>2</th>\n",
       "      <td>3</td>\n",
       "      <td>276729</td>\n",
       "      <td>Decision in Normandy</td>\n",
       "      <td>6</td>\n",
       "    </tr>\n",
       "  </tbody>\n",
       "</table>\n",
       "</div>"
      ],
      "text/plain": [
       "   Unnamed: 0  User.ID            Book.Title  Book.Rating\n",
       "0           1   276726   Classical Mythology            5\n",
       "1           2   276729          Clara Callan            3\n",
       "2           3   276729  Decision in Normandy            6"
      ]
     },
     "execution_count": 26,
     "metadata": {},
     "output_type": "execute_result"
    }
   ],
   "source": [
    "data=pd.read_csv(\"C:\\\\Users\\\\SHARAN\\\\Desktop\\\\ExcelR\\\\Assignment\\\\Assignment_10_Recommendation system\\\\book.csv\")\n",
    "data.head(3)"
   ]
  },
  {
   "cell_type": "code",
   "execution_count": 27,
   "id": "9992f1fc",
   "metadata": {},
   "outputs": [],
   "source": [
    "data.rename(columns={\"User.ID\":\"userid\",\"Book.Title\":\"booktitle\",\"Book.Rating\":\"bookrating\"},inplace=True)"
   ]
  },
  {
   "cell_type": "code",
   "execution_count": 28,
   "id": "93729447",
   "metadata": {},
   "outputs": [
    {
     "data": {
      "text/html": [
       "<div>\n",
       "<style scoped>\n",
       "    .dataframe tbody tr th:only-of-type {\n",
       "        vertical-align: middle;\n",
       "    }\n",
       "\n",
       "    .dataframe tbody tr th {\n",
       "        vertical-align: top;\n",
       "    }\n",
       "\n",
       "    .dataframe thead th {\n",
       "        text-align: right;\n",
       "    }\n",
       "</style>\n",
       "<table border=\"1\" class=\"dataframe\">\n",
       "  <thead>\n",
       "    <tr style=\"text-align: right;\">\n",
       "      <th></th>\n",
       "      <th>Unnamed: 0</th>\n",
       "      <th>userid</th>\n",
       "      <th>booktitle</th>\n",
       "      <th>bookrating</th>\n",
       "    </tr>\n",
       "  </thead>\n",
       "  <tbody>\n",
       "    <tr>\n",
       "      <th>0</th>\n",
       "      <td>1</td>\n",
       "      <td>276726</td>\n",
       "      <td>Classical Mythology</td>\n",
       "      <td>5</td>\n",
       "    </tr>\n",
       "    <tr>\n",
       "      <th>1</th>\n",
       "      <td>2</td>\n",
       "      <td>276729</td>\n",
       "      <td>Clara Callan</td>\n",
       "      <td>3</td>\n",
       "    </tr>\n",
       "    <tr>\n",
       "      <th>2</th>\n",
       "      <td>3</td>\n",
       "      <td>276729</td>\n",
       "      <td>Decision in Normandy</td>\n",
       "      <td>6</td>\n",
       "    </tr>\n",
       "  </tbody>\n",
       "</table>\n",
       "</div>"
      ],
      "text/plain": [
       "   Unnamed: 0  userid             booktitle  bookrating\n",
       "0           1  276726   Classical Mythology           5\n",
       "1           2  276729          Clara Callan           3\n",
       "2           3  276729  Decision in Normandy           6"
      ]
     },
     "execution_count": 28,
     "metadata": {},
     "output_type": "execute_result"
    }
   ],
   "source": [
    "data.head(3)"
   ]
  },
  {
   "cell_type": "code",
   "execution_count": 22,
   "id": "f3796438",
   "metadata": {},
   "outputs": [
    {
     "data": {
      "text/plain": [
       "(10000, 4)"
      ]
     },
     "execution_count": 22,
     "metadata": {},
     "output_type": "execute_result"
    }
   ],
   "source": [
    "data.shape"
   ]
  },
  {
   "cell_type": "code",
   "execution_count": 13,
   "id": "b1774d2d",
   "metadata": {},
   "outputs": [
    {
     "data": {
      "text/plain": [
       "10000"
      ]
     },
     "execution_count": 13,
     "metadata": {},
     "output_type": "execute_result"
    }
   ],
   "source": [
    "len(data)"
   ]
  },
  {
   "cell_type": "code",
   "execution_count": 14,
   "id": "bc61d105",
   "metadata": {},
   "outputs": [
    {
     "data": {
      "text/plain": [
       "2182"
      ]
     },
     "execution_count": 14,
     "metadata": {},
     "output_type": "execute_result"
    }
   ],
   "source": [
    "len(data.user_id.unique())"
   ]
  },
  {
   "cell_type": "code",
   "execution_count": 15,
   "id": "a3663ff0",
   "metadata": {},
   "outputs": [
    {
     "data": {
      "text/plain": [
       "9659"
      ]
     },
     "execution_count": 15,
     "metadata": {},
     "output_type": "execute_result"
    }
   ],
   "source": [
    "len(data.book_title.unique())"
   ]
  },
  {
   "cell_type": "code",
   "execution_count": 31,
   "id": "45c1ad59",
   "metadata": {},
   "outputs": [
    {
     "data": {
      "text/html": [
       "<div>\n",
       "<style scoped>\n",
       "    .dataframe tbody tr th:only-of-type {\n",
       "        vertical-align: middle;\n",
       "    }\n",
       "\n",
       "    .dataframe tbody tr th {\n",
       "        vertical-align: top;\n",
       "    }\n",
       "\n",
       "    .dataframe thead th {\n",
       "        text-align: right;\n",
       "    }\n",
       "</style>\n",
       "<table border=\"1\" class=\"dataframe\">\n",
       "  <thead>\n",
       "    <tr style=\"text-align: right;\">\n",
       "      <th>booktitle</th>\n",
       "      <th>Jason, Madison &amp;amp</th>\n",
       "      <th>Other Stories;Merril;1985;McClelland &amp;amp</th>\n",
       "      <th>Repairing PC Drives &amp;amp</th>\n",
       "      <th>'48</th>\n",
       "      <th>'O Au No Keia: Voices from Hawai'I's Mahu and Transgender Communities</th>\n",
       "      <th>...AND THE HORSE HE RODE IN ON : THE PEOPLE V. KENNETH STARR</th>\n",
       "      <th>01-01-00: A Novel of the Millennium</th>\n",
       "      <th>1,401 More Things That P*Ss Me Off</th>\n",
       "      <th>10 Commandments Of Dating</th>\n",
       "      <th>100 Great Fantasy Short, Short Stories</th>\n",
       "      <th>...</th>\n",
       "      <th>Zora Hurston and the Chinaberry Tree (Reading Rainbow Book)</th>\n",
       "      <th>\\Even Monkeys Fall from Trees\\ and Other Japanese Proverbs</th>\n",
       "      <th>\\I Won't Learn from You\\: And Other Thoughts on Creative Maladjustment</th>\n",
       "      <th>\\More More More,\\ Said the Baby</th>\n",
       "      <th>\\O\\ Is for Outlaw</th>\n",
       "      <th>\\Surely You're Joking, Mr. Feynman!\\: Adventures of a Curious Character</th>\n",
       "      <th>\\Well, there's your problem\\: Cartoons</th>\n",
       "      <th>iI Paradiso Degli Orchi</th>\n",
       "      <th>stardust</th>\n",
       "      <th>�?�?bermorgen.</th>\n",
       "    </tr>\n",
       "  </thead>\n",
       "  <tbody>\n",
       "    <tr>\n",
       "      <th>0</th>\n",
       "      <td>NaN</td>\n",
       "      <td>NaN</td>\n",
       "      <td>NaN</td>\n",
       "      <td>NaN</td>\n",
       "      <td>NaN</td>\n",
       "      <td>NaN</td>\n",
       "      <td>NaN</td>\n",
       "      <td>NaN</td>\n",
       "      <td>NaN</td>\n",
       "      <td>NaN</td>\n",
       "      <td>...</td>\n",
       "      <td>NaN</td>\n",
       "      <td>NaN</td>\n",
       "      <td>NaN</td>\n",
       "      <td>NaN</td>\n",
       "      <td>NaN</td>\n",
       "      <td>NaN</td>\n",
       "      <td>NaN</td>\n",
       "      <td>NaN</td>\n",
       "      <td>NaN</td>\n",
       "      <td>NaN</td>\n",
       "    </tr>\n",
       "    <tr>\n",
       "      <th>1</th>\n",
       "      <td>NaN</td>\n",
       "      <td>NaN</td>\n",
       "      <td>NaN</td>\n",
       "      <td>NaN</td>\n",
       "      <td>NaN</td>\n",
       "      <td>NaN</td>\n",
       "      <td>NaN</td>\n",
       "      <td>NaN</td>\n",
       "      <td>NaN</td>\n",
       "      <td>NaN</td>\n",
       "      <td>...</td>\n",
       "      <td>NaN</td>\n",
       "      <td>NaN</td>\n",
       "      <td>NaN</td>\n",
       "      <td>NaN</td>\n",
       "      <td>NaN</td>\n",
       "      <td>NaN</td>\n",
       "      <td>NaN</td>\n",
       "      <td>NaN</td>\n",
       "      <td>NaN</td>\n",
       "      <td>NaN</td>\n",
       "    </tr>\n",
       "    <tr>\n",
       "      <th>2</th>\n",
       "      <td>NaN</td>\n",
       "      <td>NaN</td>\n",
       "      <td>NaN</td>\n",
       "      <td>NaN</td>\n",
       "      <td>NaN</td>\n",
       "      <td>NaN</td>\n",
       "      <td>NaN</td>\n",
       "      <td>NaN</td>\n",
       "      <td>NaN</td>\n",
       "      <td>NaN</td>\n",
       "      <td>...</td>\n",
       "      <td>NaN</td>\n",
       "      <td>NaN</td>\n",
       "      <td>NaN</td>\n",
       "      <td>NaN</td>\n",
       "      <td>NaN</td>\n",
       "      <td>NaN</td>\n",
       "      <td>NaN</td>\n",
       "      <td>NaN</td>\n",
       "      <td>NaN</td>\n",
       "      <td>NaN</td>\n",
       "    </tr>\n",
       "  </tbody>\n",
       "</table>\n",
       "<p>3 rows × 9659 columns</p>\n",
       "</div>"
      ],
      "text/plain": [
       "booktitle   Jason, Madison &amp   Other Stories;Merril;1985;McClelland &amp  \\\n",
       "0                           NaN                                         NaN   \n",
       "1                           NaN                                         NaN   \n",
       "2                           NaN                                         NaN   \n",
       "\n",
       "booktitle   Repairing PC Drives &amp  '48  \\\n",
       "0                                NaN  NaN   \n",
       "1                                NaN  NaN   \n",
       "2                                NaN  NaN   \n",
       "\n",
       "booktitle  'O Au No Keia: Voices from Hawai'I's Mahu and Transgender Communities  \\\n",
       "0                                                        NaN                       \n",
       "1                                                        NaN                       \n",
       "2                                                        NaN                       \n",
       "\n",
       "booktitle  ...AND THE HORSE HE RODE IN ON : THE PEOPLE V. KENNETH STARR  \\\n",
       "0                                                        NaN              \n",
       "1                                                        NaN              \n",
       "2                                                        NaN              \n",
       "\n",
       "booktitle  01-01-00: A Novel of the Millennium  \\\n",
       "0                                          NaN   \n",
       "1                                          NaN   \n",
       "2                                          NaN   \n",
       "\n",
       "booktitle  1,401 More Things That P*Ss Me Off  10 Commandments Of Dating  \\\n",
       "0                                         NaN                        NaN   \n",
       "1                                         NaN                        NaN   \n",
       "2                                         NaN                        NaN   \n",
       "\n",
       "booktitle  100 Great Fantasy Short, Short Stories  ...  \\\n",
       "0                                             NaN  ...   \n",
       "1                                             NaN  ...   \n",
       "2                                             NaN  ...   \n",
       "\n",
       "booktitle  Zora Hurston and the Chinaberry Tree (Reading Rainbow Book)  \\\n",
       "0                                                        NaN             \n",
       "1                                                        NaN             \n",
       "2                                                        NaN             \n",
       "\n",
       "booktitle  \\Even Monkeys Fall from Trees\\ and Other Japanese Proverbs  \\\n",
       "0                                                        NaN            \n",
       "1                                                        NaN            \n",
       "2                                                        NaN            \n",
       "\n",
       "booktitle  \\I Won't Learn from You\\: And Other Thoughts on Creative Maladjustment  \\\n",
       "0                                                        NaN                        \n",
       "1                                                        NaN                        \n",
       "2                                                        NaN                        \n",
       "\n",
       "booktitle  \\More More More,\\ Said the Baby  \\O\\ Is for Outlaw  \\\n",
       "0                                      NaN                NaN   \n",
       "1                                      NaN                NaN   \n",
       "2                                      NaN                NaN   \n",
       "\n",
       "booktitle  \\Surely You're Joking, Mr. Feynman!\\: Adventures of a Curious Character  \\\n",
       "0                                                        NaN                         \n",
       "1                                                        NaN                         \n",
       "2                                                        NaN                         \n",
       "\n",
       "booktitle  \\Well, there's your problem\\: Cartoons  iI Paradiso Degli Orchi  \\\n",
       "0                                             NaN                      NaN   \n",
       "1                                             NaN                      NaN   \n",
       "2                                             NaN                      NaN   \n",
       "\n",
       "booktitle  stardust  �?�?bermorgen.  \n",
       "0               NaN             NaN  \n",
       "1               NaN             NaN  \n",
       "2               NaN             NaN  \n",
       "\n",
       "[3 rows x 9659 columns]"
      ]
     },
     "execution_count": 31,
     "metadata": {},
     "output_type": "execute_result"
    }
   ],
   "source": [
    "user_book=data.pivot_table(index='userid',columns='booktitle',values='bookrating')\n",
    "user_book=user_book.reset_index(drop=True)\n",
    "user_book.head(3)"
   ]
  },
  {
   "cell_type": "code",
   "execution_count": 32,
   "id": "4c235ef6",
   "metadata": {},
   "outputs": [],
   "source": [
    "user_book.index=data.userid.unique()"
   ]
  },
  {
   "cell_type": "code",
   "execution_count": 33,
   "id": "21dfc42e",
   "metadata": {},
   "outputs": [
    {
     "data": {
      "text/html": [
       "<div>\n",
       "<style scoped>\n",
       "    .dataframe tbody tr th:only-of-type {\n",
       "        vertical-align: middle;\n",
       "    }\n",
       "\n",
       "    .dataframe tbody tr th {\n",
       "        vertical-align: top;\n",
       "    }\n",
       "\n",
       "    .dataframe thead th {\n",
       "        text-align: right;\n",
       "    }\n",
       "</style>\n",
       "<table border=\"1\" class=\"dataframe\">\n",
       "  <thead>\n",
       "    <tr style=\"text-align: right;\">\n",
       "      <th>booktitle</th>\n",
       "      <th>Jason, Madison &amp;amp</th>\n",
       "      <th>Other Stories;Merril;1985;McClelland &amp;amp</th>\n",
       "      <th>Repairing PC Drives &amp;amp</th>\n",
       "      <th>'48</th>\n",
       "      <th>'O Au No Keia: Voices from Hawai'I's Mahu and Transgender Communities</th>\n",
       "      <th>...AND THE HORSE HE RODE IN ON : THE PEOPLE V. KENNETH STARR</th>\n",
       "      <th>01-01-00: A Novel of the Millennium</th>\n",
       "      <th>1,401 More Things That P*Ss Me Off</th>\n",
       "      <th>10 Commandments Of Dating</th>\n",
       "      <th>100 Great Fantasy Short, Short Stories</th>\n",
       "      <th>...</th>\n",
       "      <th>Zora Hurston and the Chinaberry Tree (Reading Rainbow Book)</th>\n",
       "      <th>\\Even Monkeys Fall from Trees\\ and Other Japanese Proverbs</th>\n",
       "      <th>\\I Won't Learn from You\\: And Other Thoughts on Creative Maladjustment</th>\n",
       "      <th>\\More More More,\\ Said the Baby</th>\n",
       "      <th>\\O\\ Is for Outlaw</th>\n",
       "      <th>\\Surely You're Joking, Mr. Feynman!\\: Adventures of a Curious Character</th>\n",
       "      <th>\\Well, there's your problem\\: Cartoons</th>\n",
       "      <th>iI Paradiso Degli Orchi</th>\n",
       "      <th>stardust</th>\n",
       "      <th>�?�?bermorgen.</th>\n",
       "    </tr>\n",
       "  </thead>\n",
       "  <tbody>\n",
       "    <tr>\n",
       "      <th>276726</th>\n",
       "      <td>0.0</td>\n",
       "      <td>0.0</td>\n",
       "      <td>0.0</td>\n",
       "      <td>0.0</td>\n",
       "      <td>0.0</td>\n",
       "      <td>0.0</td>\n",
       "      <td>0.0</td>\n",
       "      <td>0.0</td>\n",
       "      <td>0.0</td>\n",
       "      <td>0.0</td>\n",
       "      <td>...</td>\n",
       "      <td>0.0</td>\n",
       "      <td>0.0</td>\n",
       "      <td>0.0</td>\n",
       "      <td>0.0</td>\n",
       "      <td>0.0</td>\n",
       "      <td>0.0</td>\n",
       "      <td>0.0</td>\n",
       "      <td>0.0</td>\n",
       "      <td>0.0</td>\n",
       "      <td>0.0</td>\n",
       "    </tr>\n",
       "    <tr>\n",
       "      <th>276729</th>\n",
       "      <td>0.0</td>\n",
       "      <td>0.0</td>\n",
       "      <td>0.0</td>\n",
       "      <td>0.0</td>\n",
       "      <td>0.0</td>\n",
       "      <td>0.0</td>\n",
       "      <td>0.0</td>\n",
       "      <td>0.0</td>\n",
       "      <td>0.0</td>\n",
       "      <td>0.0</td>\n",
       "      <td>...</td>\n",
       "      <td>0.0</td>\n",
       "      <td>0.0</td>\n",
       "      <td>0.0</td>\n",
       "      <td>0.0</td>\n",
       "      <td>0.0</td>\n",
       "      <td>0.0</td>\n",
       "      <td>0.0</td>\n",
       "      <td>0.0</td>\n",
       "      <td>0.0</td>\n",
       "      <td>0.0</td>\n",
       "    </tr>\n",
       "    <tr>\n",
       "      <th>276736</th>\n",
       "      <td>0.0</td>\n",
       "      <td>0.0</td>\n",
       "      <td>0.0</td>\n",
       "      <td>0.0</td>\n",
       "      <td>0.0</td>\n",
       "      <td>0.0</td>\n",
       "      <td>0.0</td>\n",
       "      <td>0.0</td>\n",
       "      <td>0.0</td>\n",
       "      <td>0.0</td>\n",
       "      <td>...</td>\n",
       "      <td>0.0</td>\n",
       "      <td>0.0</td>\n",
       "      <td>0.0</td>\n",
       "      <td>0.0</td>\n",
       "      <td>0.0</td>\n",
       "      <td>0.0</td>\n",
       "      <td>0.0</td>\n",
       "      <td>0.0</td>\n",
       "      <td>0.0</td>\n",
       "      <td>0.0</td>\n",
       "    </tr>\n",
       "  </tbody>\n",
       "</table>\n",
       "<p>3 rows × 9659 columns</p>\n",
       "</div>"
      ],
      "text/plain": [
       "booktitle   Jason, Madison &amp   Other Stories;Merril;1985;McClelland &amp  \\\n",
       "276726                      0.0                                         0.0   \n",
       "276729                      0.0                                         0.0   \n",
       "276736                      0.0                                         0.0   \n",
       "\n",
       "booktitle   Repairing PC Drives &amp  '48  \\\n",
       "276726                           0.0  0.0   \n",
       "276729                           0.0  0.0   \n",
       "276736                           0.0  0.0   \n",
       "\n",
       "booktitle  'O Au No Keia: Voices from Hawai'I's Mahu and Transgender Communities  \\\n",
       "276726                                                   0.0                       \n",
       "276729                                                   0.0                       \n",
       "276736                                                   0.0                       \n",
       "\n",
       "booktitle  ...AND THE HORSE HE RODE IN ON : THE PEOPLE V. KENNETH STARR  \\\n",
       "276726                                                   0.0              \n",
       "276729                                                   0.0              \n",
       "276736                                                   0.0              \n",
       "\n",
       "booktitle  01-01-00: A Novel of the Millennium  \\\n",
       "276726                                     0.0   \n",
       "276729                                     0.0   \n",
       "276736                                     0.0   \n",
       "\n",
       "booktitle  1,401 More Things That P*Ss Me Off  10 Commandments Of Dating  \\\n",
       "276726                                    0.0                        0.0   \n",
       "276729                                    0.0                        0.0   \n",
       "276736                                    0.0                        0.0   \n",
       "\n",
       "booktitle  100 Great Fantasy Short, Short Stories  ...  \\\n",
       "276726                                        0.0  ...   \n",
       "276729                                        0.0  ...   \n",
       "276736                                        0.0  ...   \n",
       "\n",
       "booktitle  Zora Hurston and the Chinaberry Tree (Reading Rainbow Book)  \\\n",
       "276726                                                   0.0             \n",
       "276729                                                   0.0             \n",
       "276736                                                   0.0             \n",
       "\n",
       "booktitle  \\Even Monkeys Fall from Trees\\ and Other Japanese Proverbs  \\\n",
       "276726                                                   0.0            \n",
       "276729                                                   0.0            \n",
       "276736                                                   0.0            \n",
       "\n",
       "booktitle  \\I Won't Learn from You\\: And Other Thoughts on Creative Maladjustment  \\\n",
       "276726                                                   0.0                        \n",
       "276729                                                   0.0                        \n",
       "276736                                                   0.0                        \n",
       "\n",
       "booktitle  \\More More More,\\ Said the Baby  \\O\\ Is for Outlaw  \\\n",
       "276726                                 0.0                0.0   \n",
       "276729                                 0.0                0.0   \n",
       "276736                                 0.0                0.0   \n",
       "\n",
       "booktitle  \\Surely You're Joking, Mr. Feynman!\\: Adventures of a Curious Character  \\\n",
       "276726                                                   0.0                         \n",
       "276729                                                   0.0                         \n",
       "276736                                                   0.0                         \n",
       "\n",
       "booktitle  \\Well, there's your problem\\: Cartoons  iI Paradiso Degli Orchi  \\\n",
       "276726                                        0.0                      0.0   \n",
       "276729                                        0.0                      0.0   \n",
       "276736                                        0.0                      0.0   \n",
       "\n",
       "booktitle  stardust  �?�?bermorgen.  \n",
       "276726          0.0             0.0  \n",
       "276729          0.0             0.0  \n",
       "276736          0.0             0.0  \n",
       "\n",
       "[3 rows x 9659 columns]"
      ]
     },
     "execution_count": 33,
     "metadata": {},
     "output_type": "execute_result"
    }
   ],
   "source": [
    "user_book.fillna(0,inplace=True)\n",
    "user_book.head(3)"
   ]
  },
  {
   "cell_type": "code",
   "execution_count": 34,
   "id": "e2331a0c",
   "metadata": {},
   "outputs": [
    {
     "data": {
      "text/plain": [
       "array([[1., 0., 0., ..., 0., 0., 0.],\n",
       "       [0., 1., 0., ..., 0., 0., 0.],\n",
       "       [0., 0., 1., ..., 0., 0., 0.],\n",
       "       ...,\n",
       "       [0., 0., 0., ..., 1., 0., 0.],\n",
       "       [0., 0., 0., ..., 0., 1., 0.],\n",
       "       [0., 0., 0., ..., 0., 0., 1.]])"
      ]
     },
     "execution_count": 34,
     "metadata": {},
     "output_type": "execute_result"
    }
   ],
   "source": [
    "user_sim=1-pairwise_distances(user_book.values,metric='cosine')\n",
    "user_sim"
   ]
  },
  {
   "cell_type": "code",
   "execution_count": 41,
   "id": "8452f373",
   "metadata": {},
   "outputs": [
    {
     "data": {
      "text/html": [
       "<div>\n",
       "<style scoped>\n",
       "    .dataframe tbody tr th:only-of-type {\n",
       "        vertical-align: middle;\n",
       "    }\n",
       "\n",
       "    .dataframe tbody tr th {\n",
       "        vertical-align: top;\n",
       "    }\n",
       "\n",
       "    .dataframe thead th {\n",
       "        text-align: right;\n",
       "    }\n",
       "</style>\n",
       "<table border=\"1\" class=\"dataframe\">\n",
       "  <thead>\n",
       "    <tr style=\"text-align: right;\">\n",
       "      <th></th>\n",
       "      <th>276726</th>\n",
       "      <th>276729</th>\n",
       "      <th>276736</th>\n",
       "      <th>276737</th>\n",
       "      <th>276744</th>\n",
       "    </tr>\n",
       "  </thead>\n",
       "  <tbody>\n",
       "    <tr>\n",
       "      <th>276726</th>\n",
       "      <td>0.0</td>\n",
       "      <td>0.0</td>\n",
       "      <td>0.0</td>\n",
       "      <td>0.0</td>\n",
       "      <td>0.0</td>\n",
       "    </tr>\n",
       "    <tr>\n",
       "      <th>276729</th>\n",
       "      <td>0.0</td>\n",
       "      <td>0.0</td>\n",
       "      <td>0.0</td>\n",
       "      <td>0.0</td>\n",
       "      <td>0.0</td>\n",
       "    </tr>\n",
       "    <tr>\n",
       "      <th>276736</th>\n",
       "      <td>0.0</td>\n",
       "      <td>0.0</td>\n",
       "      <td>0.0</td>\n",
       "      <td>0.0</td>\n",
       "      <td>0.0</td>\n",
       "    </tr>\n",
       "    <tr>\n",
       "      <th>276737</th>\n",
       "      <td>0.0</td>\n",
       "      <td>0.0</td>\n",
       "      <td>0.0</td>\n",
       "      <td>0.0</td>\n",
       "      <td>0.0</td>\n",
       "    </tr>\n",
       "    <tr>\n",
       "      <th>276744</th>\n",
       "      <td>0.0</td>\n",
       "      <td>0.0</td>\n",
       "      <td>0.0</td>\n",
       "      <td>0.0</td>\n",
       "      <td>0.0</td>\n",
       "    </tr>\n",
       "  </tbody>\n",
       "</table>\n",
       "</div>"
      ],
      "text/plain": [
       "        276726  276729  276736  276737  276744\n",
       "276726     0.0     0.0     0.0     0.0     0.0\n",
       "276729     0.0     0.0     0.0     0.0     0.0\n",
       "276736     0.0     0.0     0.0     0.0     0.0\n",
       "276737     0.0     0.0     0.0     0.0     0.0\n",
       "276744     0.0     0.0     0.0     0.0     0.0"
      ]
     },
     "execution_count": 41,
     "metadata": {},
     "output_type": "execute_result"
    }
   ],
   "source": [
    "user_sim_df=pd.DataFrame(user_sim)\n",
    "user_sim_df.index=data.userid.unique()\n",
    "user_sim_df.columns=data.userid.unique()\n",
    "\n",
    "np.fill_diagonal(user_sim,0)\n",
    "user_sim_df.iloc[0:5,0:5]"
   ]
  },
  {
   "cell_type": "code",
   "execution_count": 42,
   "id": "9a63c6e9",
   "metadata": {},
   "outputs": [
    {
     "data": {
      "text/plain": [
       "276726    276726\n",
       "276729    276726\n",
       "276736    276726\n",
       "276737    276726\n",
       "276744    276726\n",
       "dtype: int64"
      ]
     },
     "execution_count": 42,
     "metadata": {},
     "output_type": "execute_result"
    }
   ],
   "source": [
    "user_sim_df.idxmax(axis=1)[0:5]"
   ]
  },
  {
   "cell_type": "code",
   "execution_count": 44,
   "id": "37109879",
   "metadata": {},
   "outputs": [
    {
     "data": {
      "text/html": [
       "<div>\n",
       "<style scoped>\n",
       "    .dataframe tbody tr th:only-of-type {\n",
       "        vertical-align: middle;\n",
       "    }\n",
       "\n",
       "    .dataframe tbody tr th {\n",
       "        vertical-align: top;\n",
       "    }\n",
       "\n",
       "    .dataframe thead th {\n",
       "        text-align: right;\n",
       "    }\n",
       "</style>\n",
       "<table border=\"1\" class=\"dataframe\">\n",
       "  <thead>\n",
       "    <tr style=\"text-align: right;\">\n",
       "      <th></th>\n",
       "      <th>Unnamed: 0</th>\n",
       "      <th>userid</th>\n",
       "      <th>booktitle</th>\n",
       "      <th>bookrating</th>\n",
       "    </tr>\n",
       "  </thead>\n",
       "  <tbody>\n",
       "    <tr>\n",
       "      <th>7</th>\n",
       "      <td>8</td>\n",
       "      <td>276747</td>\n",
       "      <td>PLEADING GUILTY</td>\n",
       "      <td>9</td>\n",
       "    </tr>\n",
       "    <tr>\n",
       "      <th>8</th>\n",
       "      <td>9</td>\n",
       "      <td>276747</td>\n",
       "      <td>Under the Black Flag: The Romance and the Real...</td>\n",
       "      <td>9</td>\n",
       "    </tr>\n",
       "    <tr>\n",
       "      <th>9</th>\n",
       "      <td>10</td>\n",
       "      <td>276747</td>\n",
       "      <td>Where You'll Find Me: And Other Stories</td>\n",
       "      <td>8</td>\n",
       "    </tr>\n",
       "    <tr>\n",
       "      <th>10</th>\n",
       "      <td>11</td>\n",
       "      <td>276747</td>\n",
       "      <td>Nights Below Station Street</td>\n",
       "      <td>7</td>\n",
       "    </tr>\n",
       "    <tr>\n",
       "      <th>11</th>\n",
       "      <td>12</td>\n",
       "      <td>276747</td>\n",
       "      <td>Hitler's Secret Bankers: The Myth of Swiss Neu...</td>\n",
       "      <td>7</td>\n",
       "    </tr>\n",
       "    <tr>\n",
       "      <th>21</th>\n",
       "      <td>22</td>\n",
       "      <td>276768</td>\n",
       "      <td>New Vegetarian: Bold and Beautiful Recipes for...</td>\n",
       "      <td>4</td>\n",
       "    </tr>\n",
       "  </tbody>\n",
       "</table>\n",
       "</div>"
      ],
      "text/plain": [
       "    Unnamed: 0  userid                                          booktitle  \\\n",
       "7            8  276747                                    PLEADING GUILTY   \n",
       "8            9  276747  Under the Black Flag: The Romance and the Real...   \n",
       "9           10  276747            Where You'll Find Me: And Other Stories   \n",
       "10          11  276747                        Nights Below Station Street   \n",
       "11          12  276747  Hitler's Secret Bankers: The Myth of Swiss Neu...   \n",
       "21          22  276768  New Vegetarian: Bold and Beautiful Recipes for...   \n",
       "\n",
       "    bookrating  \n",
       "7            9  \n",
       "8            9  \n",
       "9            8  \n",
       "10           7  \n",
       "11           7  \n",
       "21           4  "
      ]
     },
     "execution_count": 44,
     "metadata": {},
     "output_type": "execute_result"
    }
   ],
   "source": [
    "data[(data['userid']==276747)|(data['userid']==276768)]"
   ]
  },
  {
   "cell_type": "code",
   "execution_count": 47,
   "id": "fde4cede",
   "metadata": {},
   "outputs": [],
   "source": [
    "user_1=data[(data[\"userid\"]==276768)]\n",
    "user_2=data[(data[\"userid\"]==276804)]\n"
   ]
  },
  {
   "cell_type": "code",
   "execution_count": 48,
   "id": "15fd44db",
   "metadata": {},
   "outputs": [
    {
     "data": {
      "text/plain": [
       "21    New Vegetarian: Bold and Beautiful Recipes for...\n",
       "Name: booktitle, dtype: object"
      ]
     },
     "execution_count": 48,
     "metadata": {},
     "output_type": "execute_result"
    }
   ],
   "source": [
    "user_1.booktitle"
   ]
  },
  {
   "cell_type": "code",
   "execution_count": 49,
   "id": "1792f514",
   "metadata": {},
   "outputs": [
    {
     "data": {
      "text/plain": [
       "40    Miss Zukas and the Raven's Dance\n",
       "Name: booktitle, dtype: object"
      ]
     },
     "execution_count": 49,
     "metadata": {},
     "output_type": "execute_result"
    }
   ],
   "source": [
    "user_2.booktitle"
   ]
  },
  {
   "cell_type": "code",
   "execution_count": 51,
   "id": "0f4149c1",
   "metadata": {},
   "outputs": [
    {
     "data": {
      "text/html": [
       "<div>\n",
       "<style scoped>\n",
       "    .dataframe tbody tr th:only-of-type {\n",
       "        vertical-align: middle;\n",
       "    }\n",
       "\n",
       "    .dataframe tbody tr th {\n",
       "        vertical-align: top;\n",
       "    }\n",
       "\n",
       "    .dataframe thead th {\n",
       "        text-align: right;\n",
       "    }\n",
       "</style>\n",
       "<table border=\"1\" class=\"dataframe\">\n",
       "  <thead>\n",
       "    <tr style=\"text-align: right;\">\n",
       "      <th></th>\n",
       "      <th>Unnamed: 0_x</th>\n",
       "      <th>userid_x</th>\n",
       "      <th>booktitle</th>\n",
       "      <th>bookrating_x</th>\n",
       "      <th>Unnamed: 0_y</th>\n",
       "      <th>userid_y</th>\n",
       "      <th>bookrating_y</th>\n",
       "    </tr>\n",
       "  </thead>\n",
       "  <tbody>\n",
       "    <tr>\n",
       "      <th>0</th>\n",
       "      <td>22.0</td>\n",
       "      <td>276768.0</td>\n",
       "      <td>New Vegetarian: Bold and Beautiful Recipes for...</td>\n",
       "      <td>4.0</td>\n",
       "      <td>NaN</td>\n",
       "      <td>NaN</td>\n",
       "      <td>NaN</td>\n",
       "    </tr>\n",
       "    <tr>\n",
       "      <th>1</th>\n",
       "      <td>NaN</td>\n",
       "      <td>NaN</td>\n",
       "      <td>Miss Zukas and the Raven's Dance</td>\n",
       "      <td>NaN</td>\n",
       "      <td>41.0</td>\n",
       "      <td>276804.0</td>\n",
       "      <td>8.0</td>\n",
       "    </tr>\n",
       "  </tbody>\n",
       "</table>\n",
       "</div>"
      ],
      "text/plain": [
       "   Unnamed: 0_x  userid_x                                          booktitle  \\\n",
       "0          22.0  276768.0  New Vegetarian: Bold and Beautiful Recipes for...   \n",
       "1           NaN       NaN                   Miss Zukas and the Raven's Dance   \n",
       "\n",
       "   bookrating_x  Unnamed: 0_y  userid_y  bookrating_y  \n",
       "0           4.0           NaN       NaN           NaN  \n",
       "1           NaN          41.0  276804.0           8.0  "
      ]
     },
     "execution_count": 51,
     "metadata": {},
     "output_type": "execute_result"
    }
   ],
   "source": [
    "pd.merge(user_1,user_2,on='booktitle',how='outer')"
   ]
  }
 ],
 "metadata": {
  "kernelspec": {
   "display_name": "Python 3",
   "language": "python",
   "name": "python3"
  },
  "language_info": {
   "codemirror_mode": {
    "name": "ipython",
    "version": 3
   },
   "file_extension": ".py",
   "mimetype": "text/x-python",
   "name": "python",
   "nbconvert_exporter": "python",
   "pygments_lexer": "ipython3",
   "version": "3.8.8"
  }
 },
 "nbformat": 4,
 "nbformat_minor": 5
}
