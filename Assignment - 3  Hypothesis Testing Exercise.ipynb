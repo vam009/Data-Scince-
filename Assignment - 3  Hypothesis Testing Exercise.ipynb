{
 "cells": [
  {
   "cell_type": "markdown",
   "id": "c19b1554",
   "metadata": {},
   "source": [
    "### Sharan S\n",
    "### Assignment - 3  Hypothesis Testing Exercise"
   ]
  },
  {
   "attachments": {},
   "cell_type": "markdown",
   "id": "c3640ad6",
   "metadata": {},
   "source": [
    "####      A F&B manager wants to determine whether there is any significant difference in the diameter of the cutlet between two units. A randomly selected sample of cutlets was collected from both units and measured? Analyze the data and draw inferences at 5% significance level. Please state the assumptions and tests that you carried out to check validity of the assumptions.\n",
    "\n",
    "####  Minitab File : Cutlets.mtw"
   ]
  },
  {
   "attachments": {},
   "cell_type": "markdown",
   "id": "78d8851d",
   "metadata": {},
   "source": [
    "#### *Assume Null hyposthesis as Ho: μ1 = μ2 (There is no difference in   diameters of cutlets between two units).\n",
    "\n",
    "#### *Thus Alternate hypothesis as Ha: μ1 ≠ μ2 (There is significant    difference in diameters of cutlets between two units) 2 Sample 2 Tail test applicable"
   ]
  },
  {
   "cell_type": "code",
   "execution_count": 4,
   "id": "23226c7b",
   "metadata": {
    "ExecuteTime": {
     "end_time": "2022-02-04T11:28:37.423451Z",
     "start_time": "2022-02-04T11:28:36.999675Z"
    }
   },
   "outputs": [
    {
     "data": {
      "text/plain": [
       "0.4722"
      ]
     },
     "execution_count": 4,
     "metadata": {},
     "output_type": "execute_result"
    }
   ],
   "source": [
    "import pandas as pd\n",
    "from scipy import stats\n",
    "data=pd.read_csv(\"C:\\\\Users\\\\SHARAN\\\\Desktop\\\\ExcelR\\\\Assignment\\\\Assignment_3 Hypotesis\\\\Cutlets.csv\")\n",
    "unitA=pd.Series(data.iloc[:,0])\n",
    "unitB=pd.Series(data.iloc[:,1])\n",
    "p_value=stats.ttest_ind(unitA,unitB)\n",
    "round(p_value[1],4)\n"
   ]
  },
  {
   "cell_type": "markdown",
   "id": "3e86a0ff",
   "metadata": {},
   "source": [
    "#### A hospital wants to determine whether there is any difference in the average Turn Around Time (TAT) of reports of the laboratories on their preferred list. They collected a random sample and recorded TAT for reports of 4 laboratories. TAT is defined as sample collected to report dispatch.\n",
    "   \n",
    "#### Analyze the data and determine whether there is any difference in average TAT among the different laboratories at 5% significance level.\n",
    " \n",
    "#### Minitab File: LabTAT.mtw\n"
   ]
  },
  {
   "cell_type": "code",
   "execution_count": 6,
   "id": "f5f47632",
   "metadata": {
    "ExecuteTime": {
     "end_time": "2022-02-04T11:30:23.468399Z",
     "start_time": "2022-02-04T11:30:23.220378Z"
    }
   },
   "outputs": [
    {
     "data": {
      "text/plain": [
       "2.1156708949992414e-57"
      ]
     },
     "execution_count": 6,
     "metadata": {},
     "output_type": "execute_result"
    }
   ],
   "source": [
    "import pandas as pd\n",
    "from scipy import stats\n",
    "data=pd.read_csv(\"C:\\\\Users\\\\SHARAN\\\\Desktop\\\\ExcelR\\\\Assignment\\\\Assignment_3 Hypotesis\\\\LabTAT.csv\")\n",
    "\n",
    "p_value=stats.f_oneway(data.iloc[:,0],data.iloc[:,1],data.iloc[:,2],data.iloc[:,3])\n",
    "p_value[1]"
   ]
  },
  {
   "cell_type": "markdown",
   "id": "c7d34719",
   "metadata": {},
   "source": [
    "#### Sales of products in four different regions is tabulated for males and females. Find if male-female buyer rations are similar across regions.\n"
   ]
  },
  {
   "cell_type": "code",
   "execution_count": 10,
   "id": "82397fbb",
   "metadata": {
    "ExecuteTime": {
     "end_time": "2022-02-04T11:38:13.864456Z",
     "start_time": "2022-02-04T11:38:13.717942Z"
    }
   },
   "outputs": [
    {
     "name": "stdout",
     "output_type": "stream",
     "text": [
      "Independent (fail to reject H0)\n"
     ]
    }
   ],
   "source": [
    "import pandas as pd\n",
    "from scipy import stats\n",
    "from scipy.stats import chi2_contingency\n",
    "data=pd.read_csv(\"C:\\\\Users\\\\SHARAN\\\\Desktop\\\\ExcelR\\\\Assignment\\\\Assignment_3 Hypotesis\\\\BuyerRatio.csv\")\n",
    "\n",
    "data=data.iloc[:,1:]\n",
    "data=data.values\n",
    "val=chi2_contingency(data)\n",
    "p_val=val[1]\n",
    "if p_val <= 0.05:\n",
    "    print('Dependent (reject H0)')\n",
    "else:\n",
    "    print('Independent (fail to reject H0)')\n"
   ]
  },
  {
   "attachments": {},
   "cell_type": "markdown",
   "id": "926f045c",
   "metadata": {
    "ExecuteTime": {
     "end_time": "2022-02-04T11:36:44.451282Z",
     "start_time": "2022-02-04T11:36:44.389243Z"
    }
   },
   "source": [
    "#### TeleCall uses 4 centers around the globe to process customer order forms. They audit a certain %  of the customer order forms. Any error in order form renders it defective and has to be reworked before processing.  The manager wants to check whether the defective %  varies by centre. Please analyze the data at 5% significance level and help the manager draw appropriate inferences\n",
    "\n",
    "#### Minitab File: CustomerOrderForm.mtw\n",
    " \n"
   ]
  },
  {
   "cell_type": "code",
   "execution_count": 12,
   "id": "0132aa89",
   "metadata": {
    "ExecuteTime": {
     "end_time": "2022-02-04T11:40:46.432693Z",
     "start_time": "2022-02-04T11:40:46.301095Z"
    }
   },
   "outputs": [
    {
     "data": {
      "text/html": [
       "<div>\n",
       "<style scoped>\n",
       "    .dataframe tbody tr th:only-of-type {\n",
       "        vertical-align: middle;\n",
       "    }\n",
       "\n",
       "    .dataframe tbody tr th {\n",
       "        vertical-align: top;\n",
       "    }\n",
       "\n",
       "    .dataframe thead th {\n",
       "        text-align: right;\n",
       "    }\n",
       "</style>\n",
       "<table border=\"1\" class=\"dataframe\">\n",
       "  <thead>\n",
       "    <tr style=\"text-align: right;\">\n",
       "      <th></th>\n",
       "      <th>Phillippines</th>\n",
       "      <th>Indonesia</th>\n",
       "      <th>Malta</th>\n",
       "      <th>India</th>\n",
       "    </tr>\n",
       "  </thead>\n",
       "  <tbody>\n",
       "    <tr>\n",
       "      <th>0</th>\n",
       "      <td>Error Free</td>\n",
       "      <td>Error Free</td>\n",
       "      <td>Defective</td>\n",
       "      <td>Error Free</td>\n",
       "    </tr>\n",
       "    <tr>\n",
       "      <th>1</th>\n",
       "      <td>Error Free</td>\n",
       "      <td>Error Free</td>\n",
       "      <td>Error Free</td>\n",
       "      <td>Defective</td>\n",
       "    </tr>\n",
       "    <tr>\n",
       "      <th>2</th>\n",
       "      <td>Error Free</td>\n",
       "      <td>Defective</td>\n",
       "      <td>Defective</td>\n",
       "      <td>Error Free</td>\n",
       "    </tr>\n",
       "    <tr>\n",
       "      <th>3</th>\n",
       "      <td>Error Free</td>\n",
       "      <td>Error Free</td>\n",
       "      <td>Error Free</td>\n",
       "      <td>Error Free</td>\n",
       "    </tr>\n",
       "    <tr>\n",
       "      <th>4</th>\n",
       "      <td>Error Free</td>\n",
       "      <td>Error Free</td>\n",
       "      <td>Defective</td>\n",
       "      <td>Error Free</td>\n",
       "    </tr>\n",
       "  </tbody>\n",
       "</table>\n",
       "</div>"
      ],
      "text/plain": [
       "  Phillippines   Indonesia       Malta       India\n",
       "0   Error Free  Error Free   Defective  Error Free\n",
       "1   Error Free  Error Free  Error Free   Defective\n",
       "2   Error Free   Defective   Defective  Error Free\n",
       "3   Error Free  Error Free  Error Free  Error Free\n",
       "4   Error Free  Error Free   Defective  Error Free"
      ]
     },
     "execution_count": 12,
     "metadata": {},
     "output_type": "execute_result"
    }
   ],
   "source": [
    "import pandas as pd\n",
    "import numpy as np\n",
    "import scipy as sp\n",
    "import scipy.stats as stats\n",
    "import matplotlib.pyplot as plt\n",
    "import seaborn as sns\n",
    "import statsmodels.api as sm\n",
    "\n",
    "data=pd.read_csv(\"C:\\\\Users\\\\SHARAN\\\\Desktop\\\\ExcelR\\\\Assignment\\\\Assignment_3 Hypotesis\\\\Costomer+OrderForm.csv\")\n",
    "\n",
    "data.head()"
   ]
  },
  {
   "cell_type": "code",
   "execution_count": 14,
   "id": "2a8428f8",
   "metadata": {
    "ExecuteTime": {
     "end_time": "2022-02-04T11:42:01.444824Z",
     "start_time": "2022-02-04T11:42:01.367056Z"
    }
   },
   "outputs": [
    {
     "data": {
      "text/plain": [
       "Error Free    271\n",
       "Defective      29\n",
       "Name: Phillippines, dtype: int64"
      ]
     },
     "execution_count": 14,
     "metadata": {},
     "output_type": "execute_result"
    }
   ],
   "source": [
    "Phillippines=data['Phillippines'].value_counts()\n",
    "Phillippines"
   ]
  },
  {
   "cell_type": "code",
   "execution_count": 15,
   "id": "cf045cb2",
   "metadata": {
    "ExecuteTime": {
     "end_time": "2022-02-04T11:42:34.715470Z",
     "start_time": "2022-02-04T11:42:34.687485Z"
    }
   },
   "outputs": [
    {
     "data": {
      "text/plain": [
       "Error Free    267\n",
       "Defective      33\n",
       "Name: Indonesia, dtype: int64"
      ]
     },
     "execution_count": 15,
     "metadata": {},
     "output_type": "execute_result"
    }
   ],
   "source": [
    "Indonesia=data['Indonesia'].value_counts()\n",
    "Indonesia"
   ]
  },
  {
   "cell_type": "code",
   "execution_count": 16,
   "id": "72a27b6e",
   "metadata": {
    "ExecuteTime": {
     "end_time": "2022-02-04T11:42:40.015112Z",
     "start_time": "2022-02-04T11:42:39.996120Z"
    }
   },
   "outputs": [
    {
     "data": {
      "text/plain": [
       "Error Free    269\n",
       "Defective      31\n",
       "Name: Malta, dtype: int64"
      ]
     },
     "execution_count": 16,
     "metadata": {},
     "output_type": "execute_result"
    }
   ],
   "source": [
    "Malta=data['Malta'].value_counts()\n",
    "Malta"
   ]
  },
  {
   "cell_type": "code",
   "execution_count": 17,
   "id": "05e8904c",
   "metadata": {
    "ExecuteTime": {
     "end_time": "2022-02-04T11:42:56.821121Z",
     "start_time": "2022-02-04T11:42:56.804114Z"
    }
   },
   "outputs": [
    {
     "data": {
      "text/plain": [
       "Error Free    280\n",
       "Defective      20\n",
       "Name: India, dtype: int64"
      ]
     },
     "execution_count": 17,
     "metadata": {},
     "output_type": "execute_result"
    }
   ],
   "source": [
    "India=data['India'].value_counts()\n",
    "India"
   ]
  },
  {
   "cell_type": "code",
   "execution_count": 18,
   "id": "d869f071",
   "metadata": {
    "ExecuteTime": {
     "end_time": "2022-02-04T11:43:17.008872Z",
     "start_time": "2022-02-04T11:43:16.924753Z"
    }
   },
   "outputs": [
    {
     "data": {
      "text/plain": [
       "0.2771020991233135"
      ]
     },
     "execution_count": 18,
     "metadata": {},
     "output_type": "execute_result"
    }
   ],
   "source": [
    "chiStats = sp.stats.chi2_contingency([[271,267,269,280],[29,33,31,20]])\n",
    "P_VALUE=chiStats[1]\n",
    "P_VALUE"
   ]
  },
  {
   "cell_type": "code",
   "execution_count": 20,
   "id": "d029fc32",
   "metadata": {
    "ExecuteTime": {
     "end_time": "2022-02-04T11:43:49.872084Z",
     "start_time": "2022-02-04T11:43:49.861096Z"
    }
   },
   "outputs": [
    {
     "name": "stdout",
     "output_type": "stream",
     "text": [
      "Null hypothesis cannot be rejected\n"
     ]
    }
   ],
   "source": [
    "if P_VALUE >0.05:\n",
    "  print('Null hypothesis cannot be rejected')\n",
    "else:\n",
    "  print('Reject null hypothesis')\n"
   ]
  }
 ],
 "metadata": {
  "hide_input": false,
  "kernelspec": {
   "display_name": "Python 3",
   "language": "python",
   "name": "python3"
  },
  "language_info": {
   "codemirror_mode": {
    "name": "ipython",
    "version": 3
   },
   "file_extension": ".py",
   "mimetype": "text/x-python",
   "name": "python",
   "nbconvert_exporter": "python",
   "pygments_lexer": "ipython3",
   "version": "3.8.8"
  },
  "varInspector": {
   "cols": {
    "lenName": 16,
    "lenType": 16,
    "lenVar": 40
   },
   "kernels_config": {
    "python": {
     "delete_cmd_postfix": "",
     "delete_cmd_prefix": "del ",
     "library": "var_list.py",
     "varRefreshCmd": "print(var_dic_list())"
    },
    "r": {
     "delete_cmd_postfix": ") ",
     "delete_cmd_prefix": "rm(",
     "library": "var_list.r",
     "varRefreshCmd": "cat(var_dic_list()) "
    }
   },
   "types_to_exclude": [
    "module",
    "function",
    "builtin_function_or_method",
    "instance",
    "_Feature"
   ],
   "window_display": false
  }
 },
 "nbformat": 4,
 "nbformat_minor": 5
}
